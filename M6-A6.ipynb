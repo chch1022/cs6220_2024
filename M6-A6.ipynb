{
 "cells": [
  {
   "cell_type": "markdown",
   "metadata": {},
   "source": [
    "# Assignment 6"
   ]
  },
  {
   "cell_type": "markdown",
   "metadata": {},
   "source": [
    "First, we import necessary libraries."
   ]
  },
  {
   "cell_type": "code",
   "execution_count": 6,
   "metadata": {},
   "outputs": [],
   "source": [
    "import pandas as pd\n",
    "import numpy as np\n",
    "from sklearn.model_selection import train_test_split\n",
    "from sklearn.linear_model import LinearRegression\n",
    "from sklearn.metrics import mean_squared_error, r2_score"
   ]
  },
  {
   "cell_type": "markdown",
   "metadata": {},
   "source": [
    "\n",
    "To load the data, whitespace will be used as the delimiter. And in this step we also specify the column names.\n",
    "\n",
    "To remove missing value, we first replace any '?' in the dataset with NaN and then onvert the 'horsepower' column to float type, as it may contain '?' values which were replaced with NaN. Now we could remove any rows with missing values using dropna().\n"
   ]
  },
  {
   "cell_type": "code",
   "execution_count": 5,
   "metadata": {},
   "outputs": [
    {
     "name": "stdout",
     "output_type": "stream",
     "text": [
      "    mpg  cylinders  displacement  horsepower  weight  acceleration  \\\n",
      "0  18.0          8         307.0       130.0  3504.0          12.0   \n",
      "1  15.0          8         350.0       165.0  3693.0          11.5   \n",
      "2  18.0          8         318.0       150.0  3436.0          11.0   \n",
      "3  16.0          8         304.0       150.0  3433.0          12.0   \n",
      "4  17.0          8         302.0       140.0  3449.0          10.5   \n",
      "\n",
      "   model year  origin                   car name  \n",
      "0          70       1  chevrolet chevelle malibu  \n",
      "1          70       1          buick skylark 320  \n",
      "2          70       1         plymouth satellite  \n",
      "3          70       1              amc rebel sst  \n",
      "4          70       1                ford torino  \n"
     ]
    }
   ],
   "source": [
    "url = 'auto-mpg.txt'\n",
    "column_names = ['mpg', 'cylinders', 'displacement', 'horsepower', 'weight', \n",
    "                'acceleration', 'model year', 'origin', 'car name']\n",
    "\n",
    "df = pd.read_csv(url, delim_whitespace=True, names=column_names)\n",
    "\n",
    "# Data cleansing\n",
    "df = df.replace('?', np.nan)\n",
    "df['horsepower'] = df['horsepower'].astype(float)\n",
    "df = df.dropna()\n",
    "\n",
    "print(df.head())\n"
   ]
  },
  {
   "cell_type": "markdown",
   "metadata": {},
   "source": [
    "## Step 1: Split the dataset into training and test sets (80, 20)."
   ]
  },
  {
   "cell_type": "markdown",
   "metadata": {},
   "source": [
    "For features, we drop \"car name\" as in Step 2(a) we only use feature 1-7 to fit the linear regression"
   ]
  },
  {
   "cell_type": "code",
   "execution_count": 11,
   "metadata": {},
   "outputs": [],
   "source": [
    "features = ['cylinders', 'displacement', 'horsepower', 'weight', 'acceleration', 'model year', 'origin']\n",
    "X = df[features]  # Features (1-7)\n",
    "y = df['mpg']  # Target variable (mpg)\n",
    "\n",
    "# Split the data into training and test sets (80% train, 20% test)\n",
    "X_train, X_test, y_train, y_test = train_test_split(X, y, test_size=0.2, random_state=42)\n"
   ]
  },
  {
   "cell_type": "markdown",
   "metadata": {},
   "source": [
    "## Step 2(a): Use all the features (1-7) to fit the linear regression model for feature 8(MPG) using the training set."
   ]
  },
  {
   "cell_type": "code",
   "execution_count": 13,
   "metadata": {},
   "outputs": [],
   "source": [
    "model = LinearRegression()\n",
    "model.fit(X_train, y_train)\n"
   ]
  },
  {
   "cell_type": "markdown",
   "metadata": {},
   "source": [
    "## Step 2(b) Report the coefficients, mean squared error and variance score for the model on the test set."
   ]
  },
  {
   "cell_type": "code",
   "execution_count": 16,
   "metadata": {},
   "outputs": [
    {
     "name": "stdout",
     "output_type": "stream",
     "text": [
      "Test Set Results:\n",
      "Mean squared error:  10.710864418838362\n",
      "R-squared score:  0.7901500386760352\n",
      "\n",
      "Model Coefficients:\n",
      "cylinders: -0.345788833395193\n",
      "displacement: 0.015108710228018248\n",
      "horsepower: -0.02130174770550661\n",
      "weight: -0.006141625063946203\n",
      "acceleration: 0.037950006416829773\n",
      "model year: 0.7677425751829693\n",
      "origin: 1.6134570704095454\n",
      "Intercept: -18.499361128724797\n"
     ]
    }
   ],
   "source": [
    "# make prediction on the test set\n",
    "y_pred = model.predict(X_test)\n",
    "mse_train = mean_squared_error(y_test, y_pred)\n",
    "r2_train = r2_score(y_test, y_pred)\n",
    "\n",
    "print(\"Test Set Results:\")\n",
    "print(\"Mean squared error: \", mse_train)\n",
    "print(\"R-squared score: \", r2_train)\n",
    "\n",
    "# Print the coefficients and intercept of the model\n",
    "print(\"\\nModel Coefficients:\")\n",
    "for feature, coef in zip(features, model.coef_):\n",
    "    print(f\"{feature}: {coef}\")\n",
    "print(f\"Intercept: {model.intercept_}\")\n"
   ]
  },
  {
   "cell_type": "markdown",
   "metadata": {},
   "source": [
    "## Step 3(a)"
   ]
  },
  {
   "cell_type": "markdown",
   "metadata": {},
   "source": []
  }
 ],
 "metadata": {
  "kernelspec": {
   "display_name": "base",
   "language": "python",
   "name": "python3"
  },
  "language_info": {
   "codemirror_mode": {
    "name": "ipython",
    "version": 3
   },
   "file_extension": ".py",
   "mimetype": "text/x-python",
   "name": "python",
   "nbconvert_exporter": "python",
   "pygments_lexer": "ipython3",
   "version": "3.9.12"
  },
  "orig_nbformat": 4
 },
 "nbformat": 4,
 "nbformat_minor": 2
}
